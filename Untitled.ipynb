{
  "nbformat": 4,
  "nbformat_minor": 0,
  "metadata": {
    "colab": {
      "name": "Untitled",
      "provenance": [],
      "collapsed_sections": []
    },
    "kernelspec": {
      "name": "python3",
      "display_name": "Python 3"
    }
  },
  "cells": [
    {
      "cell_type": "markdown",
      "metadata": {
        "id": "5bGO0TKiidtH",
        "colab_type": "text"
      },
      "source": [
        "There is a saying that “everything in\n",
        "Python is an object.” This means, for example, that even simple objects like\n",
        "the int object just defined have built-in methods"
      ]
    },
    {
      "cell_type": "code",
      "metadata": {
        "id": "OA0ujsifhAI3",
        "colab_type": "code",
        "colab": {
          "base_uri": "https://localhost:8080/",
          "height": 34
        },
        "outputId": "42883825-2735-4220-821f-55025342440b"
      },
      "source": [
        "a = 10\n",
        "a.bit_length()"
      ],
      "execution_count": 66,
      "outputs": [
        {
          "output_type": "execute_result",
          "data": {
            "text/plain": [
              "4"
            ]
          },
          "metadata": {
            "tags": []
          },
          "execution_count": 66
        }
      ]
    },
    {
      "cell_type": "markdown",
      "metadata": {
        "id": "cMhOf43Ijt-m",
        "colab_type": "text"
      },
      "source": [
        "Python built-in\n",
        "function dir gives a complete list of the attributes and methods of any\n",
        "object."
      ]
    },
    {
      "cell_type": "code",
      "metadata": {
        "id": "1ewot4MpildB",
        "colab_type": "code",
        "colab": {
          "base_uri": "https://localhost:8080/",
          "height": 54
        },
        "outputId": "602e466c-db84-4678-d48f-01a43ac7334f"
      },
      "source": [
        "print (dir(a))"
      ],
      "execution_count": 67,
      "outputs": [
        {
          "output_type": "stream",
          "text": [
            "['__abs__', '__add__', '__and__', '__bool__', '__ceil__', '__class__', '__delattr__', '__dir__', '__divmod__', '__doc__', '__eq__', '__float__', '__floor__', '__floordiv__', '__format__', '__ge__', '__getattribute__', '__getnewargs__', '__gt__', '__hash__', '__index__', '__init__', '__init_subclass__', '__int__', '__invert__', '__le__', '__lshift__', '__lt__', '__mod__', '__mul__', '__ne__', '__neg__', '__new__', '__or__', '__pos__', '__pow__', '__radd__', '__rand__', '__rdivmod__', '__reduce__', '__reduce_ex__', '__repr__', '__rfloordiv__', '__rlshift__', '__rmod__', '__rmul__', '__ror__', '__round__', '__rpow__', '__rrshift__', '__rshift__', '__rsub__', '__rtruediv__', '__rxor__', '__setattr__', '__sizeof__', '__str__', '__sub__', '__subclasshook__', '__truediv__', '__trunc__', '__xor__', 'bit_length', 'conjugate', 'denominator', 'from_bytes', 'imag', 'numerator', 'real', 'to_bytes']\n"
          ],
          "name": "stdout"
        }
      ]
    },
    {
      "cell_type": "markdown",
      "metadata": {
        "id": "DNxvVcRCkVZm",
        "colab_type": "text"
      },
      "source": [
        "A float is a bit more involved in that the computerized representation of\n",
        "rational or real numbers is in general not exact and depends on the specific\n",
        "technical approach taken."
      ]
    },
    {
      "cell_type": "code",
      "metadata": {
        "id": "bIQDPQyijMqV",
        "colab_type": "code",
        "colab": {
          "base_uri": "https://localhost:8080/",
          "height": 52
        },
        "outputId": "b20589ee-403e-4049-899b-8ebe54ed7bed"
      },
      "source": [
        "b = 0.35\n",
        "print (type(b))\n",
        "\n",
        "b + 0.1"
      ],
      "execution_count": 68,
      "outputs": [
        {
          "output_type": "stream",
          "text": [
            "<class 'float'>\n"
          ],
          "name": "stdout"
        },
        {
          "output_type": "execute_result",
          "data": {
            "text/plain": [
              "0.44999999999999996"
            ]
          },
          "metadata": {
            "tags": []
          },
          "execution_count": 68
        }
      ]
    },
    {
      "cell_type": "markdown",
      "metadata": {
        "id": "4VUh9Pl0lDyP",
        "colab_type": "text"
      },
      "source": [
        "The reason for this is that float objects are internally represented in binary\n",
        "format"
      ]
    },
    {
      "cell_type": "code",
      "metadata": {
        "id": "IvZynTfAk_ir",
        "colab_type": "code",
        "colab": {
          "base_uri": "https://localhost:8080/",
          "height": 52
        },
        "outputId": "3130d170-3fa5-4f91-ae26-adadfc221b74"
      },
      "source": [
        "c = 0.5\n",
        "print (c.as_integer_ratio())\n",
        "\n",
        "print (b.as_integer_ratio())"
      ],
      "execution_count": 69,
      "outputs": [
        {
          "output_type": "stream",
          "text": [
            "(1, 2)\n",
            "(3152519739159347, 9007199254740992)\n"
          ],
          "name": "stdout"
        }
      ]
    },
    {
      "cell_type": "markdown",
      "metadata": {
        "id": "0-A9jFFtli6m",
        "colab_type": "text"
      },
      "source": [
        "One-half, i.e., 0.5, is stored exactly because it has an exact (finite) binary\n",
        "representation. The module decimal provides an arbitrary-precision object for floating-\n",
        "point numbers and several options to address precision issues when\n",
        "working with such numbers:"
      ]
    },
    {
      "cell_type": "code",
      "metadata": {
        "id": "-r8i5LT7lV9m",
        "colab_type": "code",
        "colab": {}
      },
      "source": [
        "import decimal\n",
        "from decimal import Decimal\n",
        "\n",
        "decimal.getcontext().prec = 4"
      ],
      "execution_count": 70,
      "outputs": []
    },
    {
      "cell_type": "code",
      "metadata": {
        "id": "pyflpHYOndvI",
        "colab_type": "code",
        "colab": {
          "base_uri": "https://localhost:8080/",
          "height": 34
        },
        "outputId": "010fb5d7-09c1-4b6d-9d29-6c41a3259635"
      },
      "source": [
        "d = Decimal(1)/Decimal(11)\n",
        "d"
      ],
      "execution_count": 71,
      "outputs": [
        {
          "output_type": "execute_result",
          "data": {
            "text/plain": [
              "Decimal('0.09091')"
            ]
          },
          "metadata": {
            "tags": []
          },
          "execution_count": 71
        }
      ]
    },
    {
      "cell_type": "markdown",
      "metadata": {
        "id": "1zqNqLFtrV9r",
        "colab_type": "text"
      },
      "source": [
        "Complete list of python keywords"
      ]
    },
    {
      "cell_type": "code",
      "metadata": {
        "id": "WwHXUHWPnyXg",
        "colab_type": "code",
        "colab": {
          "base_uri": "https://localhost:8080/",
          "height": 590
        },
        "outputId": "a8806a84-194e-4a8f-ea1a-7325b1be42f2"
      },
      "source": [
        "import keyword\n",
        "(keyword.kwlist)"
      ],
      "execution_count": 72,
      "outputs": [
        {
          "output_type": "execute_result",
          "data": {
            "text/plain": [
              "['False',\n",
              " 'None',\n",
              " 'True',\n",
              " 'and',\n",
              " 'as',\n",
              " 'assert',\n",
              " 'break',\n",
              " 'class',\n",
              " 'continue',\n",
              " 'def',\n",
              " 'del',\n",
              " 'elif',\n",
              " 'else',\n",
              " 'except',\n",
              " 'finally',\n",
              " 'for',\n",
              " 'from',\n",
              " 'global',\n",
              " 'if',\n",
              " 'import',\n",
              " 'in',\n",
              " 'is',\n",
              " 'lambda',\n",
              " 'nonlocal',\n",
              " 'not',\n",
              " 'or',\n",
              " 'pass',\n",
              " 'raise',\n",
              " 'return',\n",
              " 'try',\n",
              " 'while',\n",
              " 'with',\n",
              " 'yield']"
            ]
          },
          "metadata": {
            "tags": []
          },
          "execution_count": 72
        }
      ]
    },
    {
      "cell_type": "markdown",
      "metadata": {
        "id": "jhFIYsB1seq4",
        "colab_type": "text"
      },
      "source": [
        "Python is generally considered to be a good choice when it comes to\n",
        "working with texts and text files of any kind and any size."
      ]
    },
    {
      "cell_type": "code",
      "metadata": {
        "id": "lGhmvZkgq5lM",
        "colab_type": "code",
        "colab": {
          "base_uri": "https://localhost:8080/",
          "height": 35
        },
        "outputId": "e9eb2936-fa24-4e07-c7a6-e669c1f3c744"
      },
      "source": [
        "t = \"this is a string object\"\n",
        "\n",
        "t.capitalize()"
      ],
      "execution_count": 73,
      "outputs": [
        {
          "output_type": "execute_result",
          "data": {
            "application/vnd.google.colaboratory.intrinsic+json": {
              "type": "string"
            },
            "text/plain": [
              "'This is a string object'"
            ]
          },
          "metadata": {
            "tags": []
          },
          "execution_count": 73
        }
      ]
    },
    {
      "cell_type": "code",
      "metadata": {
        "id": "E0XH5Z9LsiJ_",
        "colab_type": "code",
        "colab": {
          "base_uri": "https://localhost:8080/",
          "height": 34
        },
        "outputId": "649f6421-50f8-4376-d90e-86518a29b59b"
      },
      "source": [
        "t.split()"
      ],
      "execution_count": 74,
      "outputs": [
        {
          "output_type": "execute_result",
          "data": {
            "text/plain": [
              "['this', 'is', 'a', 'string', 'object']"
            ]
          },
          "metadata": {
            "tags": []
          },
          "execution_count": 74
        }
      ]
    },
    {
      "cell_type": "code",
      "metadata": {
        "id": "ZH_-SDefspRb",
        "colab_type": "code",
        "colab": {
          "base_uri": "https://localhost:8080/",
          "height": 34
        },
        "outputId": "be0c1deb-4a50-4f1c-f839-7b1fbaa9e0b6"
      },
      "source": [
        "t.find(\"string\")"
      ],
      "execution_count": 75,
      "outputs": [
        {
          "output_type": "execute_result",
          "data": {
            "text/plain": [
              "10"
            ]
          },
          "metadata": {
            "tags": []
          },
          "execution_count": 75
        }
      ]
    },
    {
      "cell_type": "code",
      "metadata": {
        "id": "WtIGrm_FtPBI",
        "colab_type": "code",
        "colab": {
          "base_uri": "https://localhost:8080/",
          "height": 34
        },
        "outputId": "3b42da88-2cb0-42f5-b311-599af970913c"
      },
      "source": [
        "t.find(\"Python\")"
      ],
      "execution_count": 76,
      "outputs": [
        {
          "output_type": "execute_result",
          "data": {
            "text/plain": [
              "-1"
            ]
          },
          "metadata": {
            "tags": []
          },
          "execution_count": 76
        }
      ]
    },
    {
      "cell_type": "code",
      "metadata": {
        "id": "iW8TFJuqtTO8",
        "colab_type": "code",
        "colab": {
          "base_uri": "https://localhost:8080/",
          "height": 35
        },
        "outputId": "e5148c9e-b690-464e-8fe8-f4bda98a0ea1"
      },
      "source": [
        "t.replace(\" \",\",\" )"
      ],
      "execution_count": 77,
      "outputs": [
        {
          "output_type": "execute_result",
          "data": {
            "application/vnd.google.colaboratory.intrinsic+json": {
              "type": "string"
            },
            "text/plain": [
              "'this,is,a,string,object'"
            ]
          },
          "metadata": {
            "tags": []
          },
          "execution_count": 77
        }
      ]
    },
    {
      "cell_type": "code",
      "metadata": {
        "id": "ohCTZ6gQtX1g",
        "colab_type": "code",
        "colab": {
          "base_uri": "https://localhost:8080/",
          "height": 35
        },
        "outputId": "1b6f9890-c0b7-4943-e0f0-dbcce2a8fc63"
      },
      "source": [
        "'http://www.python.org'.strip('http:/')"
      ],
      "execution_count": 78,
      "outputs": [
        {
          "output_type": "execute_result",
          "data": {
            "application/vnd.google.colaboratory.intrinsic+json": {
              "type": "string"
            },
            "text/plain": [
              "'www.python.org'"
            ]
          },
          "metadata": {
            "tags": []
          },
          "execution_count": 78
        }
      ]
    },
    {
      "cell_type": "code",
      "metadata": {
        "id": "8XFdf4VGtefG",
        "colab_type": "code",
        "colab": {
          "base_uri": "https://localhost:8080/",
          "height": 34
        },
        "outputId": "6864dc71-aabe-445a-c8b7-18d361672134"
      },
      "source": [
        "i = 0\n",
        "while i < 4:\n",
        "    print(i, end = \"|\")\n",
        "    i+=1"
      ],
      "execution_count": 79,
      "outputs": [
        {
          "output_type": "stream",
          "text": [
            "0|1|2|3|"
          ],
          "name": "stdout"
        }
      ]
    },
    {
      "cell_type": "markdown",
      "metadata": {
        "id": "uTGTpLBiw2dX",
        "colab_type": "text"
      },
      "source": [
        "Suppose a financial analyst is faced with a large text file, such as a CSV\n",
        "file, which contains certain time series and respective date-time\n",
        "information. More often than not, this information is delivered in a format\n",
        "that Python cannot interpret directly. However, the date-time information\n",
        "can generally be described by a regular expression. Consider the following\n",
        "str object, containing three date-time elements, three integers, and three\n",
        "strings. Note that triple quotation marks allow the definition of str objects\n",
        "over multiple rows:"
      ]
    },
    {
      "cell_type": "code",
      "metadata": {
        "id": "RDIVriy0u65N",
        "colab_type": "code",
        "colab": {
          "base_uri": "https://localhost:8080/",
          "height": 34
        },
        "outputId": "f8f5b48e-a9e9-4b69-d85d-071229c5010e"
      },
      "source": [
        "series = \"\"\"\n",
        "'01/18/2014 13:00:00', 100, '1st';\n",
        "'01/18/2014 13:30:00', 110, '2nd';\n",
        "'01/18/2014 14:00:00', 120, '3rd'\n",
        "\"\"\"\n",
        "\n",
        "print "
      ],
      "execution_count": 80,
      "outputs": [
        {
          "output_type": "execute_result",
          "data": {
            "text/plain": [
              "<function print>"
            ]
          },
          "metadata": {
            "tags": []
          },
          "execution_count": 80
        }
      ]
    },
    {
      "cell_type": "markdown",
      "metadata": {
        "id": "F5L2-gn9xoRM",
        "colab_type": "text"
      },
      "source": [
        "The following regular expression describes the format of the date-time\n",
        "information provided in the str object:"
      ]
    },
    {
      "cell_type": "code",
      "metadata": {
        "id": "Aw4Jl-8GxNAX",
        "colab_type": "code",
        "colab": {}
      },
      "source": [
        "import re\n",
        "dt = re.compile(\"'[0-9/:\\s]+'\")"
      ],
      "execution_count": 81,
      "outputs": []
    },
    {
      "cell_type": "markdown",
      "metadata": {
        "id": "vIjoeHyAxump",
        "colab_type": "text"
      },
      "source": [
        "Equipped with this regular expression, one can go on and find all the date-\n",
        "time elements. In general, applying regular expressions to str objects also\n",
        "leads to performance improvements for typical parsing tasks:"
      ]
    },
    {
      "cell_type": "code",
      "metadata": {
        "id": "BOxTOClcxcnW",
        "colab_type": "code",
        "colab": {
          "base_uri": "https://localhost:8080/",
          "height": 34
        },
        "outputId": "d9b74e4c-3e8f-4caa-8b18-c685ad0a484e"
      },
      "source": [
        "result = dt.findall(series)\n",
        "result"
      ],
      "execution_count": 82,
      "outputs": [
        {
          "output_type": "execute_result",
          "data": {
            "text/plain": [
              "[\"'01/18/2014 13:00:00'\", \"'01/18/2014 13:30:00'\", \"'01/18/2014 14:00:00'\"]"
            ]
          },
          "metadata": {
            "tags": []
          },
          "execution_count": 82
        }
      ]
    },
    {
      "cell_type": "markdown",
      "metadata": {
        "id": "ozf-EaHCyIyU",
        "colab_type": "text"
      },
      "source": [
        "The resulting str objects can then be parsed to generate Python datetime\n",
        "object"
      ]
    },
    {
      "cell_type": "code",
      "metadata": {
        "id": "xuUr8s1qx7Cd",
        "colab_type": "code",
        "colab": {
          "base_uri": "https://localhost:8080/",
          "height": 34
        },
        "outputId": "96244b36-e5bc-4faa-acb7-ae1cb5eb4e65"
      },
      "source": [
        "from datetime import datetime\n",
        "pydt = datetime.strptime(result[0].replace(\"'\", \"\"), \n",
        "                         '%m/%d/%Y %H:%M:%S')\n",
        "pydt"
      ],
      "execution_count": 83,
      "outputs": [
        {
          "output_type": "execute_result",
          "data": {
            "text/plain": [
              "datetime.datetime(2014, 1, 18, 13, 0)"
            ]
          },
          "metadata": {
            "tags": []
          },
          "execution_count": 83
        }
      ]
    },
    {
      "cell_type": "code",
      "metadata": {
        "id": "6DbUBC-fxgw9",
        "colab_type": "code",
        "colab": {
          "base_uri": "https://localhost:8080/",
          "height": 34
        },
        "outputId": "9783fae3-a741-428b-997a-6d0e3ad1da26"
      },
      "source": [
        "print (pydt)"
      ],
      "execution_count": 84,
      "outputs": [
        {
          "output_type": "stream",
          "text": [
            "2014-01-18 13:00:00\n"
          ],
          "name": "stdout"
        }
      ]
    },
    {
      "cell_type": "code",
      "metadata": {
        "id": "TWCyBcd_ysM2",
        "colab_type": "code",
        "colab": {
          "base_uri": "https://localhost:8080/",
          "height": 34
        },
        "outputId": "2c44e029-cf19-4211-831d-5a4e3e39e2bf"
      },
      "source": [
        "print (type(pydt))"
      ],
      "execution_count": 85,
      "outputs": [
        {
          "output_type": "stream",
          "text": [
            "<class 'datetime.datetime'>\n"
          ],
          "name": "stdout"
        }
      ]
    },
    {
      "cell_type": "markdown",
      "metadata": {
        "id": "N0vsPtiYWpvb",
        "colab_type": "text"
      },
      "source": [
        "Tuple"
      ]
    },
    {
      "cell_type": "code",
      "metadata": {
        "id": "uo15Cgx-yxml",
        "colab_type": "code",
        "colab": {
          "base_uri": "https://localhost:8080/",
          "height": 34
        },
        "outputId": "c88c4cdd-5791-461d-b647-b00d38e1e3cb"
      },
      "source": [
        "t = (1,2.5,\"data\")\n",
        "type(t)"
      ],
      "execution_count": 86,
      "outputs": [
        {
          "output_type": "execute_result",
          "data": {
            "text/plain": [
              "tuple"
            ]
          },
          "metadata": {
            "tags": []
          },
          "execution_count": 86
        }
      ]
    },
    {
      "cell_type": "code",
      "metadata": {
        "id": "p91TdnJ9VvzF",
        "colab_type": "code",
        "colab": {
          "base_uri": "https://localhost:8080/",
          "height": 35
        },
        "outputId": "1354eb4f-db86-455b-994c-aab396daaa74"
      },
      "source": [
        "t[2]"
      ],
      "execution_count": 87,
      "outputs": [
        {
          "output_type": "execute_result",
          "data": {
            "application/vnd.google.colaboratory.intrinsic+json": {
              "type": "string"
            },
            "text/plain": [
              "'data'"
            ]
          },
          "metadata": {
            "tags": []
          },
          "execution_count": 87
        }
      ]
    },
    {
      "cell_type": "code",
      "metadata": {
        "id": "lvazVb_ZVZ-n",
        "colab_type": "code",
        "colab": {
          "base_uri": "https://localhost:8080/",
          "height": 34
        },
        "outputId": "3ba8fd4a-4679-40e7-ac7f-653de1e355df"
      },
      "source": [
        "t.count(\"data\")"
      ],
      "execution_count": 88,
      "outputs": [
        {
          "output_type": "execute_result",
          "data": {
            "text/plain": [
              "1"
            ]
          },
          "metadata": {
            "tags": []
          },
          "execution_count": 88
        }
      ]
    },
    {
      "cell_type": "code",
      "metadata": {
        "id": "N0Oql4w6Vhaq",
        "colab_type": "code",
        "colab": {
          "base_uri": "https://localhost:8080/",
          "height": 34
        },
        "outputId": "ffe3d869-4640-4825-d92e-906a059b4fcd"
      },
      "source": [
        "t.index(\"data\")"
      ],
      "execution_count": 89,
      "outputs": [
        {
          "output_type": "execute_result",
          "data": {
            "text/plain": [
              "2"
            ]
          },
          "metadata": {
            "tags": []
          },
          "execution_count": 89
        }
      ]
    },
    {
      "cell_type": "markdown",
      "metadata": {
        "id": "7ZJRPvPEWs6g",
        "colab_type": "text"
      },
      "source": [
        "List"
      ]
    },
    {
      "cell_type": "code",
      "metadata": {
        "id": "Sh6BpfKqVla3",
        "colab_type": "code",
        "colab": {
          "base_uri": "https://localhost:8080/",
          "height": 34
        },
        "outputId": "cc32de56-ead1-41f1-d44f-53956153a4bf"
      },
      "source": [
        "l = list(t)\n",
        "l"
      ],
      "execution_count": 90,
      "outputs": [
        {
          "output_type": "execute_result",
          "data": {
            "text/plain": [
              "[1, 2.5, 'data']"
            ]
          },
          "metadata": {
            "tags": []
          },
          "execution_count": 90
        }
      ]
    },
    {
      "cell_type": "code",
      "metadata": {
        "id": "_LZJjpMTV2dd",
        "colab_type": "code",
        "colab": {
          "base_uri": "https://localhost:8080/",
          "height": 34
        },
        "outputId": "81dff576-6e98-4372-f184-5992cf84df7a"
      },
      "source": [
        "type(l)"
      ],
      "execution_count": 91,
      "outputs": [
        {
          "output_type": "execute_result",
          "data": {
            "text/plain": [
              "list"
            ]
          },
          "metadata": {
            "tags": []
          },
          "execution_count": 91
        }
      ]
    },
    {
      "cell_type": "code",
      "metadata": {
        "id": "sEFODVO8V5Lk",
        "colab_type": "code",
        "colab": {
          "base_uri": "https://localhost:8080/",
          "height": 34
        },
        "outputId": "d30cf194-ca79-48fb-99e0-451f10a40ac0"
      },
      "source": [
        "l.append([4,3])\n",
        "l"
      ],
      "execution_count": 92,
      "outputs": [
        {
          "output_type": "execute_result",
          "data": {
            "text/plain": [
              "[1, 2.5, 'data', [4, 3]]"
            ]
          },
          "metadata": {
            "tags": []
          },
          "execution_count": 92
        }
      ]
    },
    {
      "cell_type": "code",
      "metadata": {
        "id": "fRqvFhmBWERV",
        "colab_type": "code",
        "colab": {
          "base_uri": "https://localhost:8080/",
          "height": 34
        },
        "outputId": "ea86f1ef-a005-4c6c-8f4f-1f97496ca80d"
      },
      "source": [
        "l.extend([1,1.5,2])\n",
        "l"
      ],
      "execution_count": 93,
      "outputs": [
        {
          "output_type": "execute_result",
          "data": {
            "text/plain": [
              "[1, 2.5, 'data', [4, 3], 1, 1.5, 2]"
            ]
          },
          "metadata": {
            "tags": []
          },
          "execution_count": 93
        }
      ]
    },
    {
      "cell_type": "code",
      "metadata": {
        "id": "nTe7ZWWQWJ2x",
        "colab_type": "code",
        "colab": {
          "base_uri": "https://localhost:8080/",
          "height": 34
        },
        "outputId": "6e15f4c8-a50d-4c53-de9a-1451b26690fc"
      },
      "source": [
        "l.insert(1,\"insert\")\n",
        "l"
      ],
      "execution_count": 94,
      "outputs": [
        {
          "output_type": "execute_result",
          "data": {
            "text/plain": [
              "[1, 'insert', 2.5, 'data', [4, 3], 1, 1.5, 2]"
            ]
          },
          "metadata": {
            "tags": []
          },
          "execution_count": 94
        }
      ]
    },
    {
      "cell_type": "code",
      "metadata": {
        "id": "gsoFrslxWNoa",
        "colab_type": "code",
        "colab": {
          "base_uri": "https://localhost:8080/",
          "height": 34
        },
        "outputId": "44699f42-1a8d-4880-a02a-ffa6eec3c1db"
      },
      "source": [
        "l.remove(\"data\")\n",
        "l"
      ],
      "execution_count": 95,
      "outputs": [
        {
          "output_type": "execute_result",
          "data": {
            "text/plain": [
              "[1, 'insert', 2.5, [4, 3], 1, 1.5, 2]"
            ]
          },
          "metadata": {
            "tags": []
          },
          "execution_count": 95
        }
      ]
    },
    {
      "cell_type": "code",
      "metadata": {
        "id": "5-73qFpYWWFV",
        "colab_type": "code",
        "colab": {
          "base_uri": "https://localhost:8080/",
          "height": 34
        },
        "outputId": "de5b4324-874a-4a38-ba51-6d9169f9ee1d"
      },
      "source": [
        "p = l.pop(3)\n",
        "print (l,p)"
      ],
      "execution_count": 96,
      "outputs": [
        {
          "output_type": "stream",
          "text": [
            "[1, 'insert', 2.5, 1, 1.5, 2] [4, 3]\n"
          ],
          "name": "stdout"
        }
      ]
    },
    {
      "cell_type": "code",
      "metadata": {
        "id": "Or-6r6ajWe8J",
        "colab_type": "code",
        "colab": {
          "base_uri": "https://localhost:8080/",
          "height": 34
        },
        "outputId": "a1b1e057-7ab8-44f5-c01d-fcf48a501a07"
      },
      "source": [
        "l[2:5]"
      ],
      "execution_count": 97,
      "outputs": [
        {
          "output_type": "execute_result",
          "data": {
            "text/plain": [
              "[2.5, 1, 1.5]"
            ]
          },
          "metadata": {
            "tags": []
          },
          "execution_count": 97
        }
      ]
    },
    {
      "cell_type": "code",
      "metadata": {
        "id": "YLSjDSoEWw6B",
        "colab_type": "code",
        "colab": {
          "base_uri": "https://localhost:8080/",
          "height": 34
        },
        "outputId": "ec097ba8-e366-4815-ad08-0e7e67d824a0"
      },
      "source": [
        "def even(x):\n",
        "    return x%2 == 0\n",
        "\n",
        "list(map(even, range(10)))"
      ],
      "execution_count": 99,
      "outputs": [
        {
          "output_type": "execute_result",
          "data": {
            "text/plain": [
              "[True, False, True, False, True, False, True, False, True, False]"
            ]
          },
          "metadata": {
            "tags": []
          },
          "execution_count": 99
        }
      ]
    },
    {
      "cell_type": "code",
      "metadata": {
        "id": "hAPNnKDlat7-",
        "colab_type": "code",
        "colab": {
          "base_uri": "https://localhost:8080/",
          "height": 34
        },
        "outputId": "c5042937-f57a-4c11-a99e-0672a8894700"
      },
      "source": [
        "list(map(lambda x : x ** 2, range(10)))"
      ],
      "execution_count": 102,
      "outputs": [
        {
          "output_type": "execute_result",
          "data": {
            "text/plain": [
              "[0, 1, 4, 9, 16, 25, 36, 49, 64, 81]"
            ]
          },
          "metadata": {
            "tags": []
          },
          "execution_count": 102
        }
      ]
    },
    {
      "cell_type": "code",
      "metadata": {
        "id": "KfRdWPDJbSFh",
        "colab_type": "code",
        "colab": {
          "base_uri": "https://localhost:8080/",
          "height": 34
        },
        "outputId": "934ce312-31b0-493a-923d-a8aa5ff878ca"
      },
      "source": [
        "list(filter(even, range(10)))"
      ],
      "execution_count": 103,
      "outputs": [
        {
          "output_type": "execute_result",
          "data": {
            "text/plain": [
              "[0, 2, 4, 6, 8]"
            ]
          },
          "metadata": {
            "tags": []
          },
          "execution_count": 103
        }
      ]
    },
    {
      "cell_type": "markdown",
      "metadata": {
        "id": "wDBYH1AVbmfD",
        "colab_type": "text"
      },
      "source": [
        "Dictionary"
      ]
    },
    {
      "cell_type": "code",
      "metadata": {
        "id": "UcAmC43FbgJR",
        "colab_type": "code",
        "colab": {
          "base_uri": "https://localhost:8080/",
          "height": 34
        },
        "outputId": "6f783d59-d74e-4580-c3b1-d36e0887b116"
      },
      "source": [
        "d = {\n",
        "'Name' : 'Angela Merkel',\n",
        "'Country' : 'Germany',\n",
        "'Profession' : 'Chancelor',\n",
        "'Age' : 64\n",
        "}\n",
        "type(d)"
      ],
      "execution_count": 104,
      "outputs": [
        {
          "output_type": "execute_result",
          "data": {
            "text/plain": [
              "dict"
            ]
          },
          "metadata": {
            "tags": []
          },
          "execution_count": 104
        }
      ]
    },
    {
      "cell_type": "code",
      "metadata": {
        "id": "HipzHhhwdC_B",
        "colab_type": "code",
        "colab": {
          "base_uri": "https://localhost:8080/",
          "height": 34
        },
        "outputId": "1626e8da-b19a-4e32-e7e4-5e8adddcde5d"
      },
      "source": [
        "d.keys()"
      ],
      "execution_count": 105,
      "outputs": [
        {
          "output_type": "execute_result",
          "data": {
            "text/plain": [
              "dict_keys(['Name', 'Country', 'Profession', 'Age'])"
            ]
          },
          "metadata": {
            "tags": []
          },
          "execution_count": 105
        }
      ]
    },
    {
      "cell_type": "code",
      "metadata": {
        "id": "LbWeM7FFdE4s",
        "colab_type": "code",
        "colab": {
          "base_uri": "https://localhost:8080/",
          "height": 34
        },
        "outputId": "49e99094-578c-4a91-c990-aec21b79fa4b"
      },
      "source": [
        "d.values()"
      ],
      "execution_count": 106,
      "outputs": [
        {
          "output_type": "execute_result",
          "data": {
            "text/plain": [
              "dict_values(['Angela Merkel', 'Germany', 'Chancelor', 64])"
            ]
          },
          "metadata": {
            "tags": []
          },
          "execution_count": 106
        }
      ]
    },
    {
      "cell_type": "code",
      "metadata": {
        "id": "_YWS9HofdHZf",
        "colab_type": "code",
        "colab": {
          "base_uri": "https://localhost:8080/",
          "height": 34
        },
        "outputId": "495e9de5-ffcc-4d9b-9f9e-9987e12efde3"
      },
      "source": [
        "d.items()"
      ],
      "execution_count": 107,
      "outputs": [
        {
          "output_type": "execute_result",
          "data": {
            "text/plain": [
              "dict_items([('Name', 'Angela Merkel'), ('Country', 'Germany'), ('Profession', 'Chancelor'), ('Age', 64)])"
            ]
          },
          "metadata": {
            "tags": []
          },
          "execution_count": 107
        }
      ]
    },
    {
      "cell_type": "markdown",
      "metadata": {
        "id": "-EH-Ry6yf7-G",
        "colab_type": "text"
      },
      "source": [
        "Set"
      ]
    },
    {
      "cell_type": "code",
      "metadata": {
        "id": "lxNbbp4KdJ6g",
        "colab_type": "code",
        "colab": {
          "base_uri": "https://localhost:8080/",
          "height": 34
        },
        "outputId": "d181535c-5307-4f03-f6c4-1c881cd2805a"
      },
      "source": [
        "s = set(['u', 'd', 'ud', 'du', 'd', 'du'])\n",
        "s"
      ],
      "execution_count": 108,
      "outputs": [
        {
          "output_type": "execute_result",
          "data": {
            "text/plain": [
              "{'d', 'du', 'u', 'ud'}"
            ]
          },
          "metadata": {
            "tags": []
          },
          "execution_count": 108
        }
      ]
    },
    {
      "cell_type": "markdown",
      "metadata": {
        "id": "3QuMkGmdgIdE",
        "colab_type": "text"
      },
      "source": [
        "With set objects, one can implement basic operations on sets as in\n",
        "mathematical set theory."
      ]
    },
    {
      "cell_type": "code",
      "metadata": {
        "id": "UyzuFmbSf81U",
        "colab_type": "code",
        "colab": {}
      },
      "source": [
        "t = set(['d', 'dd', 'uu', 'u'])"
      ],
      "execution_count": 109,
      "outputs": []
    },
    {
      "cell_type": "code",
      "metadata": {
        "id": "AEEKbttsgNNa",
        "colab_type": "code",
        "colab": {
          "base_uri": "https://localhost:8080/",
          "height": 34
        },
        "outputId": "a571fdb9-35c5-41f4-8e9c-05715f120f49"
      },
      "source": [
        "s.union(t)"
      ],
      "execution_count": 110,
      "outputs": [
        {
          "output_type": "execute_result",
          "data": {
            "text/plain": [
              "{'d', 'dd', 'du', 'u', 'ud', 'uu'}"
            ]
          },
          "metadata": {
            "tags": []
          },
          "execution_count": 110
        }
      ]
    },
    {
      "cell_type": "code",
      "metadata": {
        "id": "Ia5V_U-YgO8y",
        "colab_type": "code",
        "colab": {
          "base_uri": "https://localhost:8080/",
          "height": 34
        },
        "outputId": "faab9602-0f21-43d3-8cc0-f0a433c4704f"
      },
      "source": [
        "s.intersection(t)"
      ],
      "execution_count": 111,
      "outputs": [
        {
          "output_type": "execute_result",
          "data": {
            "text/plain": [
              "{'d', 'u'}"
            ]
          },
          "metadata": {
            "tags": []
          },
          "execution_count": 111
        }
      ]
    },
    {
      "cell_type": "code",
      "metadata": {
        "id": "d363FwHOgSFk",
        "colab_type": "code",
        "colab": {
          "base_uri": "https://localhost:8080/",
          "height": 34
        },
        "outputId": "3f96e50e-a153-4b80-b7a7-b43ea3d1531c"
      },
      "source": [
        "s.difference(t)"
      ],
      "execution_count": 112,
      "outputs": [
        {
          "output_type": "execute_result",
          "data": {
            "text/plain": [
              "{'du', 'ud'}"
            ]
          },
          "metadata": {
            "tags": []
          },
          "execution_count": 112
        }
      ]
    },
    {
      "cell_type": "code",
      "metadata": {
        "id": "8_9r0oNBgWaW",
        "colab_type": "code",
        "colab": {
          "base_uri": "https://localhost:8080/",
          "height": 34
        },
        "outputId": "c4c00ad9-d681-49cf-8da1-1d0d61cc5a09"
      },
      "source": [
        "t.difference(s)"
      ],
      "execution_count": 113,
      "outputs": [
        {
          "output_type": "execute_result",
          "data": {
            "text/plain": [
              "{'dd', 'uu'}"
            ]
          },
          "metadata": {
            "tags": []
          },
          "execution_count": 113
        }
      ]
    },
    {
      "cell_type": "code",
      "metadata": {
        "id": "32WJYzOMgbGB",
        "colab_type": "code",
        "colab": {
          "base_uri": "https://localhost:8080/",
          "height": 34
        },
        "outputId": "b09c4991-cd32-4fc8-fdea-e0d0bfdd6053"
      },
      "source": [
        "s.symmetric_difference(t)"
      ],
      "execution_count": 114,
      "outputs": [
        {
          "output_type": "execute_result",
          "data": {
            "text/plain": [
              "{'dd', 'du', 'ud', 'uu'}"
            ]
          },
          "metadata": {
            "tags": []
          },
          "execution_count": 114
        }
      ]
    },
    {
      "cell_type": "markdown",
      "metadata": {
        "id": "Zlb-daRSgkeJ",
        "colab_type": "text"
      },
      "source": [
        "One application of set objects is to get rid of duplicates in a list object:"
      ]
    },
    {
      "cell_type": "code",
      "metadata": {
        "id": "_7WUPsexgd9M",
        "colab_type": "code",
        "colab": {
          "base_uri": "https://localhost:8080/",
          "height": 34
        },
        "outputId": "2fb2a7d4-b67f-4311-ecff-066a0704d6f0"
      },
      "source": [
        "from random import randint\n",
        "l = [randint(0,10) for i in range(1000)]\n",
        "len(l)"
      ],
      "execution_count": 115,
      "outputs": [
        {
          "output_type": "execute_result",
          "data": {
            "text/plain": [
              "1000"
            ]
          },
          "metadata": {
            "tags": []
          },
          "execution_count": 115
        }
      ]
    },
    {
      "cell_type": "code",
      "metadata": {
        "id": "DVdDEhG2gvhH",
        "colab_type": "code",
        "colab": {
          "base_uri": "https://localhost:8080/",
          "height": 34
        },
        "outputId": "5b2cc05a-20e2-458c-92a8-258b44e1a7ac"
      },
      "source": [
        "l[:20]"
      ],
      "execution_count": 116,
      "outputs": [
        {
          "output_type": "execute_result",
          "data": {
            "text/plain": [
              "[6, 5, 5, 5, 1, 0, 8, 3, 5, 8, 4, 6, 0, 9, 0, 4, 2, 6, 5, 4]"
            ]
          },
          "metadata": {
            "tags": []
          },
          "execution_count": 116
        }
      ]
    },
    {
      "cell_type": "code",
      "metadata": {
        "id": "VID3Y6_vgxrO",
        "colab_type": "code",
        "colab": {
          "base_uri": "https://localhost:8080/",
          "height": 34
        },
        "outputId": "74f300ea-3ade-4713-e119-316f67a5bebc"
      },
      "source": [
        "s = set(l)\n",
        "s"
      ],
      "execution_count": 117,
      "outputs": [
        {
          "output_type": "execute_result",
          "data": {
            "text/plain": [
              "{0, 1, 2, 3, 4, 5, 6, 7, 8, 9, 10}"
            ]
          },
          "metadata": {
            "tags": []
          },
          "execution_count": 117
        }
      ]
    },
    {
      "cell_type": "code",
      "metadata": {
        "id": "whuWmda0g0zq",
        "colab_type": "code",
        "colab": {}
      },
      "source": [
        ""
      ],
      "execution_count": null,
      "outputs": []
    }
  ]
}